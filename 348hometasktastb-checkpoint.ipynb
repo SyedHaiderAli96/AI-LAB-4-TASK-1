{
 "cells": [
  {
   "cell_type": "code",
   "execution_count": 1,
   "id": "f5ced51b-534c-49ef-b1b3-f3c26e7c25ae",
   "metadata": {},
   "outputs": [
    {
     "name": "stdout",
     "output_type": "stream",
     "text": [
      "Probability of Buys Computer = Yes: 0.7686398553999096\n",
      "Probability of Buys Computer = No: 0.23136014460009036\n",
      "Prediction: Buys Computer = Yes\n"
     ]
    }
   ],
   "source": [
    "import pandas as pd\n",
    "\n",
    "# Define a new dataset with different values for age, income, student, credit_rating, and buys_computer\n",
    "data = pd.DataFrame({\n",
    "    'age': ['youth', 'middle_aged', 'senior', 'youth', 'senior', 'middle_aged', 'youth', 'senior', 'middle_aged', \n",
    "            'senior', 'youth', 'youth', 'middle_aged', 'senior'],\n",
    "    'income': ['medium', 'high', 'low', 'medium', 'high', 'low', 'high', 'medium', 'medium', 'low',\n",
    "               'low', 'medium', 'high', 'medium'],\n",
    "    'student': ['yes', 'yes', 'no', 'no', 'no', 'yes', 'yes', 'yes', 'no', 'yes',\n",
    "                'no', 'yes', 'yes', 'no'],\n",
    "    'credit_rating': ['excellent', 'fair', 'fair', 'excellent', 'excellent', 'fair', 'fair', 'excellent', 'fair', 'fair',\n",
    "                      'fair', 'excellent', 'excellent', 'excellent'],\n",
    "    'buys_computer': ['yes', 'yes', 'no', 'no', 'yes', 'no', 'yes', 'yes', 'no', 'yes',\n",
    "                      'no', 'yes', 'yes', 'no']\n",
    "})\n",
    "\n",
    "# Separate data based on the class \"buys_computer\"\n",
    "buy_yes = data[data['buys_computer'] == 'yes']\n",
    "buy_no = data[data['buys_computer'] == 'no']\n",
    "\n",
    "# Calculate prior probabilities\n",
    "P_yes = len(buy_yes) / len(data)\n",
    "P_no = len(buy_no) / len(data)\n",
    "\n",
    "# Calculate likelihoods for each attribute given buys_computer = \"yes\"\n",
    "P_age_youth_yes = len(buy_yes[buy_yes['age'] == 'youth']) / len(buy_yes) if len(buy_yes) > 0 else 0\n",
    "P_income_medium_yes = len(buy_yes[buy_yes['income'] == 'medium']) / len(buy_yes) if len(buy_yes) > 0 else 0\n",
    "P_student_yes_yes = len(buy_yes[buy_yes['student'] == 'yes']) / len(buy_yes) if len(buy_yes) > 0 else 0\n",
    "P_credit_fair_yes = len(buy_yes[buy_yes['credit_rating'] == 'fair']) / len(buy_yes) if len(buy_yes) > 0 else 0\n",
    "\n",
    "# Calculate likelihoods for each attribute given buys_computer = \"no\"\n",
    "P_age_youth_no = len(buy_no[buy_no['age'] == 'youth']) / len(buy_no) if len(buy_no) > 0 else 0\n",
    "P_income_medium_no = len(buy_no[buy_no['income'] == 'medium']) / len(buy_no) if len(buy_no) > 0 else 0\n",
    "P_student_yes_no = len(buy_no[buy_no['student'] == 'yes']) / len(buy_no) if len(buy_no) > 0 else 0\n",
    "P_credit_fair_no = len(buy_no[buy_no['credit_rating'] == 'fair']) / len(buy_no) if len(buy_no) > 0 else 0\n",
    "\n",
    "# Calculate posterior probabilities for buys_computer = \"yes\" and buys_computer = \"no\"\n",
    "P_yes_given_attributes = P_age_youth_yes * P_income_medium_yes * P_student_yes_yes * P_credit_fair_yes * P_yes\n",
    "P_no_given_attributes = P_age_youth_no * P_income_medium_no * P_student_yes_no * P_credit_fair_no * P_no\n",
    "\n",
    "# Normalize the results\n",
    "total = P_yes_given_attributes + P_no_given_attributes\n",
    "P_yes_final = P_yes_given_attributes / total if total > 0 else 0\n",
    "P_no_final = P_no_given_attributes / total if total > 0 else 0\n",
    "\n",
    "# Print the results\n",
    "print(\"Probability of Buys Computer = Yes:\", P_yes_final)\n",
    "print(\"Probability of Buys Computer = No:\", P_no_final)\n",
    "\n",
    "# Final prediction\n",
    "if P_yes_final > P_no_final:\n",
    "    print(\"Prediction: Buys Computer = Yes\")\n",
    "else:\n",
    "    print(\"Prediction: Buys Computer = No\")\n"
   ]
  },
  {
   "cell_type": "code",
   "execution_count": null,
   "id": "4a8998ae-0b6b-411e-b21d-4ae4006a35c1",
   "metadata": {},
   "outputs": [],
   "source": []
  }
 ],
 "metadata": {
  "kernelspec": {
   "display_name": "Python 3 (ipykernel)",
   "language": "python",
   "name": "python3"
  },
  "language_info": {
   "codemirror_mode": {
    "name": "ipython",
    "version": 3
   },
   "file_extension": ".py",
   "mimetype": "text/x-python",
   "name": "python",
   "nbconvert_exporter": "python",
   "pygments_lexer": "ipython3",
   "version": "3.11.7"
  }
 },
 "nbformat": 4,
 "nbformat_minor": 5
}
