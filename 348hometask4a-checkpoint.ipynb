{
 "cells": [
  {
   "cell_type": "code",
   "execution_count": 1,
   "id": "9c2b9b4b-fdff-409b-832e-5099bc510bf7",
   "metadata": {},
   "outputs": [
    {
     "name": "stdout",
     "output_type": "stream",
     "text": [
      "Probability of Play = Yes: 0.4230769230769231\n",
      "Probability of Play = No: 0.5769230769230769\n",
      "Prediction: Players will not play.\n"
     ]
    }
   ],
   "source": [
    "import pandas as pd\n",
    "\n",
    "# Define a new dataset with more \"No\" outcomes for \"Play\"\n",
    "data = pd.DataFrame({\n",
    "    'Weather': ['Sunny', 'Sunny', 'Overcast', 'Rainy', 'Rainy', 'Rainy', 'Overcast', 'Sunny', 'Sunny', \n",
    "                'Rainy', 'Sunny', 'Overcast', 'Overcast', 'Rainy'],\n",
    "    'Temperature': ['Hot', 'Hot', 'Hot', 'Mild', 'Cool', 'Cool', 'Cool', 'Mild', 'Cool', 'Mild', \n",
    "                    'Mild', 'Mild', 'Hot', 'Mild'],\n",
    "    'Play': ['No', 'No', 'No', 'No', 'No', 'No', 'Yes', 'No', 'No', 'No', \n",
    "             'Yes', 'No', 'Yes', 'No']\n",
    "})\n",
    "\n",
    "# Count the occurrences for each class in \"Play\"\n",
    "play_yes = data[data['Play'] == 'Yes']\n",
    "play_no = data[data['Play'] == 'No']\n",
    "\n",
    "# Calculate prior probabilities\n",
    "P_play_yes = len(play_yes) / len(data)\n",
    "P_play_no = len(play_no) / len(data)\n",
    "\n",
    "# Calculate likelihoods for Weather and Temperature given Play = Yes\n",
    "P_overcast_yes = len(play_yes[play_yes['Weather'] == 'Overcast']) / len(play_yes) if len(play_yes) > 0 else 0\n",
    "P_mild_yes = len(play_yes[play_yes['Temperature'] == 'Mild']) / len(play_yes) if len(play_yes) > 0 else 0\n",
    "\n",
    "# Calculate likelihoods for Weather and Temperature given Play = No\n",
    "P_overcast_no = len(play_no[play_no['Weather'] == 'Overcast']) / len(play_no) if len(play_no) > 0 else 0\n",
    "P_mild_no = len(play_no[play_no['Temperature'] == 'Mild']) / len(play_no) if len(play_no) > 0 else 0\n",
    "\n",
    "# Calculate posterior probabilities for Play = Yes and Play = No\n",
    "P_yes_given_overcast_mild = P_overcast_yes * P_mild_yes * P_play_yes\n",
    "P_no_given_overcast_mild = P_overcast_no * P_mild_no * P_play_no\n",
    "\n",
    "# Normalize the results\n",
    "total = P_yes_given_overcast_mild + P_no_given_overcast_mild\n",
    "P_yes = P_yes_given_overcast_mild / total if total > 0 else 0\n",
    "P_no = P_no_given_overcast_mild / total if total > 0 else 0\n",
    "\n",
    "# Print the results\n",
    "print(\"Probability of Play = Yes:\", P_yes)\n",
    "print(\"Probability of Play = No:\", P_no)\n",
    "\n",
    "# Final prediction\n",
    "if P_yes > P_no:\n",
    "    print(\"Prediction: Players will play.\")\n",
    "else:\n",
    "    print(\"Prediction: Players will not play.\")\n"
   ]
  },
  {
   "cell_type": "code",
   "execution_count": null,
   "id": "0460f5a5-9948-4e14-aa7d-765ede7b2d15",
   "metadata": {},
   "outputs": [],
   "source": []
  }
 ],
 "metadata": {
  "kernelspec": {
   "display_name": "Python 3 (ipykernel)",
   "language": "python",
   "name": "python3"
  },
  "language_info": {
   "codemirror_mode": {
    "name": "ipython",
    "version": 3
   },
   "file_extension": ".py",
   "mimetype": "text/x-python",
   "name": "python",
   "nbconvert_exporter": "python",
   "pygments_lexer": "ipython3",
   "version": "3.11.7"
  }
 },
 "nbformat": 4,
 "nbformat_minor": 5
}
