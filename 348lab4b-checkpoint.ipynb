{
 "cells": [
  {
   "cell_type": "code",
   "execution_count": 1,
   "id": "966f2bd8-46ff-40be-92e9-b59205675b66",
   "metadata": {},
   "outputs": [
    {
     "name": "stdout",
     "output_type": "stream",
     "text": [
      "Probability of Buys Computer = Yes: 0.8045052292839904\n",
      "Probability of Buys Computer = No: 0.1954947707160097\n",
      "Prediction: Buys Computer = Yes\n"
     ]
    }
   ],
   "source": [
    "import pandas as pd\n",
    "\n",
    "# Define the dataset\n",
    "data = pd.DataFrame({\n",
    "    'age': ['youth', 'youth', 'middle_aged', 'senior', 'senior', 'senior', 'middle_aged', 'youth', 'youth', 'senior',\n",
    "            'youth', 'middle_aged', 'middle_aged', 'senior'],\n",
    "    'income': ['high', 'high', 'high', 'medium', 'low', 'low', 'low', 'medium', 'low', 'medium',\n",
    "               'medium', 'medium', 'high', 'medium'],\n",
    "    'student': ['no', 'no', 'no', 'no', 'yes', 'yes', 'yes', 'no', 'yes', 'yes',\n",
    "                'yes', 'no', 'yes', 'no'],\n",
    "    'credit_rating': ['fair', 'excellent', 'fair', 'fair', 'fair', 'excellent', 'excellent', 'fair', 'fair', 'fair',\n",
    "                      'excellent', 'excellent', 'fair', 'excellent'],\n",
    "    'buys_computer': ['no', 'no', 'yes', 'yes', 'yes', 'no', 'yes', 'no', 'yes', 'yes',\n",
    "                      'yes', 'yes', 'yes', 'no']\n",
    "})\n",
    "\n",
    "# Separate data based on the class \"buys_computer\"\n",
    "buy_yes = data[data['buys_computer'] == 'yes']\n",
    "buy_no = data[data['buys_computer'] == 'no']\n",
    "\n",
    "# Calculate prior probabilities\n",
    "P_yes = len(buy_yes) / len(data)\n",
    "P_no = len(buy_no) / len(data)\n",
    "\n",
    "# Calculate likelihoods for each attribute given buys_computer = \"yes\"\n",
    "P_age_youth_yes = len(buy_yes[buy_yes['age'] == 'youth']) / len(buy_yes)\n",
    "P_income_medium_yes = len(buy_yes[buy_yes['income'] == 'medium']) / len(buy_yes)\n",
    "P_student_yes_yes = len(buy_yes[buy_yes['student'] == 'yes']) / len(buy_yes)\n",
    "P_credit_fair_yes = len(buy_yes[buy_yes['credit_rating'] == 'fair']) / len(buy_yes)\n",
    "\n",
    "# Calculate likelihoods for each attribute given buys_computer = \"no\"\n",
    "P_age_youth_no = len(buy_no[buy_no['age'] == 'youth']) / len(buy_no)\n",
    "P_income_medium_no = len(buy_no[buy_no['income'] == 'medium']) / len(buy_no)\n",
    "P_student_yes_no = len(buy_no[buy_no['student'] == 'yes']) / len(buy_no)\n",
    "P_credit_fair_no = len(buy_no[buy_no['credit_rating'] == 'fair']) / len(buy_no)\n",
    "\n",
    "# Calculate posterior probabilities for buys_computer = \"yes\" and buys_computer = \"no\"\n",
    "P_yes_given_attributes = P_age_youth_yes * P_income_medium_yes * P_student_yes_yes * P_credit_fair_yes * P_yes\n",
    "P_no_given_attributes = P_age_youth_no * P_income_medium_no * P_student_yes_no * P_credit_fair_no * P_no\n",
    "\n",
    "# Normalize the results\n",
    "total = P_yes_given_attributes + P_no_given_attributes\n",
    "P_yes_final = P_yes_given_attributes / total if total > 0 else 0\n",
    "P_no_final = P_no_given_attributes / total if total > 0 else 0\n",
    "\n",
    "# Print the results\n",
    "print(\"Probability of Buys Computer = Yes:\", P_yes_final)\n",
    "print(\"Probability of Buys Computer = No:\", P_no_final)\n",
    "\n",
    "# Final prediction\n",
    "if P_yes_final > P_no_final:\n",
    "    print(\"Prediction: Buys Computer = Yes\")\n",
    "else:\n",
    "    print(\"Prediction: Buys Computer = No\")\n"
   ]
  },
  {
   "cell_type": "code",
   "execution_count": null,
   "id": "cd963392-3169-4adf-9b1e-1a48ec741b6c",
   "metadata": {},
   "outputs": [],
   "source": []
  }
 ],
 "metadata": {
  "kernelspec": {
   "display_name": "Python 3 (ipykernel)",
   "language": "python",
   "name": "python3"
  },
  "language_info": {
   "codemirror_mode": {
    "name": "ipython",
    "version": 3
   },
   "file_extension": ".py",
   "mimetype": "text/x-python",
   "name": "python",
   "nbconvert_exporter": "python",
   "pygments_lexer": "ipython3",
   "version": "3.11.7"
  }
 },
 "nbformat": 4,
 "nbformat_minor": 5
}
