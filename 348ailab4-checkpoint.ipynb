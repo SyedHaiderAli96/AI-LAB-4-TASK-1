{
 "cells": [
  {
   "cell_type": "code",
   "execution_count": 2,
   "id": "4e64bfab-a69d-4009-a87f-cc7326f2b14e",
   "metadata": {},
   "outputs": [
    {
     "name": "stdout",
     "output_type": "stream",
     "text": [
      "Probability of Play = Yes: 1.0\n",
      "Probability of Play = No: 0.0\n",
      "Prediction: Players will play.\n"
     ]
    }
   ],
   "source": [
    "import pandas as pd\n",
    "\n",
    "# Define the dataset\n",
    "data = pd.DataFrame({\n",
    "    'Weather': ['Sunny', 'Sunny', 'Overcast', 'Rainy', 'Rainy', 'Rainy', 'Overcast', 'Sunny', 'Sunny', \n",
    "                'Rainy', 'Sunny', 'Overcast', 'Overcast', 'Rainy'],\n",
    "    'Temperature': ['Hot', 'Hot', 'Hot', 'Mild', 'Cool', 'Cool', 'Cool', 'Mild', 'Cool', 'Mild', \n",
    "                    'Mild', 'Mild', 'Hot', 'Mild'],\n",
    "    'Play': ['No', 'No', 'Yes', 'Yes', 'Yes', 'No', 'Yes', 'No', 'Yes', 'Yes', \n",
    "             'Yes', 'Yes', 'Yes', 'No']\n",
    "})\n",
    "\n",
    "# Count the occurrences for each class in \"Play\"\n",
    "play_yes = data[data['Play'] == 'Yes']\n",
    "play_no = data[data['Play'] == 'No']\n",
    "\n",
    "# Calculate prior probabilities\n",
    "P_play_yes = len(play_yes) / len(data)\n",
    "P_play_no = len(play_no) / len(data)\n",
    "\n",
    "# Calculate likelihoods for Weather and Temperature given Play = Yes\n",
    "P_overcast_yes = len(play_yes[play_yes['Weather'] == 'Overcast']) / len(play_yes)\n",
    "P_mild_yes = len(play_yes[play_yes['Temperature'] == 'Mild']) / len(play_yes)\n",
    "\n",
    "# Calculate likelihoods for Weather and Temperature given Play = No\n",
    "P_overcast_no = len(play_no[play_no['Weather'] == 'Overcast']) / len(play_no)\n",
    "P_mild_no = len(play_no[play_no['Temperature'] == 'Mild']) / len(play_no)\n",
    "\n",
    "# Calculate posterior probabilities for Play = Yes and Play = No\n",
    "P_yes_given_overcast_mild = P_overcast_yes * P_mild_yes * P_play_yes\n",
    "P_no_given_overcast_mild = P_overcast_no * P_mild_no * P_play_no\n",
    "\n",
    "# Normalize the results\n",
    "total = P_yes_given_overcast_mild + P_no_given_overcast_mild\n",
    "P_yes = P_yes_given_overcast_mild / total\n",
    "P_no = P_no_given_overcast_mild / total\n",
    "\n",
    "# Print the results\n",
    "print(\"Probability of Play = Yes:\", P_yes)\n",
    "print(\"Probability of Play = No:\", P_no)\n",
    "\n",
    "# Final prediction\n",
    "if P_yes > P_no:\n",
    "    print(\"Prediction: Players will play.\")\n",
    "else:\n",
    "    print(\"Prediction: Players will not play.\")\n"
   ]
  }
 ],
 "metadata": {
  "kernelspec": {
   "display_name": "Python 3 (ipykernel)",
   "language": "python",
   "name": "python3"
  },
  "language_info": {
   "codemirror_mode": {
    "name": "ipython",
    "version": 3
   },
   "file_extension": ".py",
   "mimetype": "text/x-python",
   "name": "python",
   "nbconvert_exporter": "python",
   "pygments_lexer": "ipython3",
   "version": "3.11.7"
  }
 },
 "nbformat": 4,
 "nbformat_minor": 5
}
